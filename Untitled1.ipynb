{
 "cells": [
  {
   "cell_type": "markdown",
   "metadata": {},
   "source": [
    "import snakes.plugins\n",
    "snakes.plugins.load(\"gv\", \"snakes.nets\", \"nets\")\n",
    "from nets import *\n",
    "\n",
    "def factory (cons, prod, init=[1, 2, 3]) :\n",
    "    n = PetriNet(\"N\")\n",
    "    n.add_place(Place(\"src\", init))\n",
    "    n.add_place(Place(\"tgt\", []))\n",
    "    t = Transition(\"t\")\n",
    "    n.add_transition(t)\n",
    "    n.add_input(\"src\", \"t\", cons)\n",
    "    n.add_output(\"tgt\", \"t\", prod)\n",
    "    return n, t, t.modes()\n"
   ]
  },
  {
   "cell_type": "code",
   "execution_count": 2,
   "metadata": {},
   "outputs": [
    {
     "ename": "SyntaxError",
     "evalue": "invalid syntax (<ipython-input-2-7799be4bcfe9>, line 1)",
     "output_type": "error",
     "traceback": [
      "\u001b[0;36m  File \u001b[0;32m\"<ipython-input-2-7799be4bcfe9>\"\u001b[0;36m, line \u001b[0;32m1\u001b[0m\n\u001b[0;31m    import snakes.plugins snakes.plugins.load(\"gv\", \"snakes.nets\", \"nets\") from nets import *\u001b[0m\n\u001b[0m                               ^\u001b[0m\n\u001b[0;31mSyntaxError\u001b[0m\u001b[0;31m:\u001b[0m invalid syntax\n"
     ]
    }
   ],
   "source": [
    "import snakes.plugins snakes.plugins.load(\"gv\", \"snakes.nets\", \"nets\") from nets import *\n",
    "\n",
    "def factory (cons, prod, init=[1, 2, 3]) : n = PetriNet(\"N\") n.add_place(Place(\"src\", init)) n.add_place(Place(\"tgt\", [])) t = Transition(\"t\") n.add_transition(t) n.add_input(\"src\", \"t\", cons) n.add_output(\"tgt\", \"t\", prod) return n, t, t.modes()\n"
   ]
  },
  {
   "cell_type": "code",
   "execution_count": null,
   "metadata": {},
   "outputs": [],
   "source": []
  }
 ],
 "metadata": {
  "kernelspec": {
   "display_name": "Python 2",
   "language": "python",
   "name": "python2"
  },
  "language_info": {
   "codemirror_mode": {
    "name": "ipython",
    "version": 2
   },
   "file_extension": ".py",
   "mimetype": "text/x-python",
   "name": "python",
   "nbconvert_exporter": "python",
   "pygments_lexer": "ipython2",
   "version": "2.7.15"
  }
 },
 "nbformat": 4,
 "nbformat_minor": 2
}
